{
 "cells": [
  {
   "cell_type": "markdown",
   "id": "7c76fa68",
   "metadata": {
    "papermill": {
     "duration": 0.011935,
     "end_time": "2024-10-08T18:48:15.503721",
     "exception": false,
     "start_time": "2024-10-08T18:48:15.491786",
     "status": "completed"
    },
    "tags": []
   },
   "source": [
    "# Customer satisfaction analysis"
   ]
  },
  {
   "cell_type": "markdown",
   "id": "2210038a",
   "metadata": {
    "papermill": {
     "duration": 0.011014,
     "end_time": "2024-10-08T18:48:15.526378",
     "exception": false,
     "start_time": "2024-10-08T18:48:15.515364",
     "status": "completed"
    },
    "tags": []
   },
   "source": [
    "![Thumbnail](https://www.corporatevision-news.com/wp-content/uploads/2022/10/Customer-Segmentation.jpg)"
   ]
  },
  {
   "cell_type": "markdown",
   "id": "e94027de",
   "metadata": {
    "papermill": {
     "duration": 0.010884,
     "end_time": "2024-10-08T18:48:15.548653",
     "exception": false,
     "start_time": "2024-10-08T18:48:15.537769",
     "status": "completed"
    },
    "tags": []
   },
   "source": [
    "This project is focused on customer satisfaction for supermarkets, a dynamic and expanding sector. Examining customer demographics and purchasing behaviors, I can gain valuable insights into how different customer groups influence sales and profitability. This analysis is crucial for refining marketing strategies and enhancing customer engagement, making it especially useful for supermarkets or any product and customer based business for that matter looking to optimize their operations.\n",
    "\n",
    "## 1. Data collection\n",
    "\n",
    "The (CSV) dataset that I analysed in this project comes from [Aung Pyae](https://www.kaggle.com/datasets/aungpyaeap/supermarket-sales). The tools for this project are MySQL for cleaning, querying and extracting data, ran in the visual studio code integrated developement environment, and Tableau for visualizing data."
   ]
  },
  {
   "cell_type": "code",
   "execution_count": 3,
   "id": "c088df77",
   "metadata": {
    "execution": {
     "iopub.execute_input": "2024-10-08T18:48:15.573440Z",
     "iopub.status.busy": "2024-10-08T18:48:15.572885Z",
     "iopub.status.idle": "2024-10-08T18:48:16.526865Z",
     "shell.execute_reply": "2024-10-08T18:48:16.525796Z"
    },
    "papermill": {
     "duration": 0.969985,
     "end_time": "2024-10-08T18:48:16.529989",
     "exception": false,
     "start_time": "2024-10-08T18:48:15.560004",
     "status": "completed"
    },
    "scrolled": true,
    "tags": []
   },
   "outputs": [
    {
     "data": {
      "text/html": [
       "<div>\n",
       "<style scoped>\n",
       "    .dataframe tbody tr th:only-of-type {\n",
       "        vertical-align: middle;\n",
       "    }\n",
       "\n",
       "    .dataframe tbody tr th {\n",
       "        vertical-align: top;\n",
       "    }\n",
       "\n",
       "    .dataframe thead th {\n",
       "        text-align: right;\n",
       "    }\n",
       "</style>\n",
       "<table border=\"1\" class=\"dataframe\">\n",
       "  <thead>\n",
       "    <tr style=\"text-align: right;\">\n",
       "      <th></th>\n",
       "      <th>Invoice ID</th>\n",
       "      <th>Branch</th>\n",
       "      <th>City</th>\n",
       "      <th>Customer type</th>\n",
       "      <th>Gender</th>\n",
       "      <th>Product line</th>\n",
       "      <th>Unit price</th>\n",
       "      <th>Quantity</th>\n",
       "      <th>Tax 5%</th>\n",
       "      <th>Total</th>\n",
       "      <th>Date</th>\n",
       "      <th>Time</th>\n",
       "      <th>Payment</th>\n",
       "      <th>cogs</th>\n",
       "      <th>gross margin percentage</th>\n",
       "      <th>gross income</th>\n",
       "      <th>Rating</th>\n",
       "    </tr>\n",
       "  </thead>\n",
       "  <tbody>\n",
       "    <tr>\n",
       "      <th>0</th>\n",
       "      <td>750-67-8428</td>\n",
       "      <td>A</td>\n",
       "      <td>Yangon</td>\n",
       "      <td>Member</td>\n",
       "      <td>Female</td>\n",
       "      <td>Health and beauty</td>\n",
       "      <td>74.69</td>\n",
       "      <td>7</td>\n",
       "      <td>26.1415</td>\n",
       "      <td>548.9715</td>\n",
       "      <td>1/5/2019</td>\n",
       "      <td>13:08</td>\n",
       "      <td>Ewallet</td>\n",
       "      <td>522.83</td>\n",
       "      <td>4.761905</td>\n",
       "      <td>26.1415</td>\n",
       "      <td>9.1</td>\n",
       "    </tr>\n",
       "    <tr>\n",
       "      <th>1</th>\n",
       "      <td>226-31-3081</td>\n",
       "      <td>C</td>\n",
       "      <td>Naypyitaw</td>\n",
       "      <td>Normal</td>\n",
       "      <td>Female</td>\n",
       "      <td>Electronic accessories</td>\n",
       "      <td>15.28</td>\n",
       "      <td>5</td>\n",
       "      <td>3.8200</td>\n",
       "      <td>80.2200</td>\n",
       "      <td>3/8/2019</td>\n",
       "      <td>10:29</td>\n",
       "      <td>Cash</td>\n",
       "      <td>76.40</td>\n",
       "      <td>4.761905</td>\n",
       "      <td>3.8200</td>\n",
       "      <td>9.6</td>\n",
       "    </tr>\n",
       "    <tr>\n",
       "      <th>2</th>\n",
       "      <td>631-41-3108</td>\n",
       "      <td>A</td>\n",
       "      <td>Yangon</td>\n",
       "      <td>Normal</td>\n",
       "      <td>Male</td>\n",
       "      <td>Home and lifestyle</td>\n",
       "      <td>46.33</td>\n",
       "      <td>7</td>\n",
       "      <td>16.2155</td>\n",
       "      <td>340.5255</td>\n",
       "      <td>3/3/2019</td>\n",
       "      <td>13:23</td>\n",
       "      <td>Credit card</td>\n",
       "      <td>324.31</td>\n",
       "      <td>4.761905</td>\n",
       "      <td>16.2155</td>\n",
       "      <td>7.4</td>\n",
       "    </tr>\n",
       "    <tr>\n",
       "      <th>3</th>\n",
       "      <td>123-19-1176</td>\n",
       "      <td>A</td>\n",
       "      <td>Yangon</td>\n",
       "      <td>Member</td>\n",
       "      <td>Male</td>\n",
       "      <td>Health and beauty</td>\n",
       "      <td>58.22</td>\n",
       "      <td>8</td>\n",
       "      <td>23.2880</td>\n",
       "      <td>489.0480</td>\n",
       "      <td>1/27/2019</td>\n",
       "      <td>20:33</td>\n",
       "      <td>Ewallet</td>\n",
       "      <td>465.76</td>\n",
       "      <td>4.761905</td>\n",
       "      <td>23.2880</td>\n",
       "      <td>8.4</td>\n",
       "    </tr>\n",
       "    <tr>\n",
       "      <th>4</th>\n",
       "      <td>373-73-7910</td>\n",
       "      <td>A</td>\n",
       "      <td>Yangon</td>\n",
       "      <td>Normal</td>\n",
       "      <td>Male</td>\n",
       "      <td>Sports and travel</td>\n",
       "      <td>86.31</td>\n",
       "      <td>7</td>\n",
       "      <td>30.2085</td>\n",
       "      <td>634.3785</td>\n",
       "      <td>2/8/2019</td>\n",
       "      <td>10:37</td>\n",
       "      <td>Ewallet</td>\n",
       "      <td>604.17</td>\n",
       "      <td>4.761905</td>\n",
       "      <td>30.2085</td>\n",
       "      <td>5.3</td>\n",
       "    </tr>\n",
       "    <tr>\n",
       "      <th>...</th>\n",
       "      <td>...</td>\n",
       "      <td>...</td>\n",
       "      <td>...</td>\n",
       "      <td>...</td>\n",
       "      <td>...</td>\n",
       "      <td>...</td>\n",
       "      <td>...</td>\n",
       "      <td>...</td>\n",
       "      <td>...</td>\n",
       "      <td>...</td>\n",
       "      <td>...</td>\n",
       "      <td>...</td>\n",
       "      <td>...</td>\n",
       "      <td>...</td>\n",
       "      <td>...</td>\n",
       "      <td>...</td>\n",
       "      <td>...</td>\n",
       "    </tr>\n",
       "    <tr>\n",
       "      <th>995</th>\n",
       "      <td>233-67-5758</td>\n",
       "      <td>C</td>\n",
       "      <td>Naypyitaw</td>\n",
       "      <td>Normal</td>\n",
       "      <td>Male</td>\n",
       "      <td>Health and beauty</td>\n",
       "      <td>40.35</td>\n",
       "      <td>1</td>\n",
       "      <td>2.0175</td>\n",
       "      <td>42.3675</td>\n",
       "      <td>1/29/2019</td>\n",
       "      <td>13:46</td>\n",
       "      <td>Ewallet</td>\n",
       "      <td>40.35</td>\n",
       "      <td>4.761905</td>\n",
       "      <td>2.0175</td>\n",
       "      <td>6.2</td>\n",
       "    </tr>\n",
       "    <tr>\n",
       "      <th>996</th>\n",
       "      <td>303-96-2227</td>\n",
       "      <td>B</td>\n",
       "      <td>Mandalay</td>\n",
       "      <td>Normal</td>\n",
       "      <td>Female</td>\n",
       "      <td>Home and lifestyle</td>\n",
       "      <td>97.38</td>\n",
       "      <td>10</td>\n",
       "      <td>48.6900</td>\n",
       "      <td>1022.4900</td>\n",
       "      <td>3/2/2019</td>\n",
       "      <td>17:16</td>\n",
       "      <td>Ewallet</td>\n",
       "      <td>973.80</td>\n",
       "      <td>4.761905</td>\n",
       "      <td>48.6900</td>\n",
       "      <td>4.4</td>\n",
       "    </tr>\n",
       "    <tr>\n",
       "      <th>997</th>\n",
       "      <td>727-02-1313</td>\n",
       "      <td>A</td>\n",
       "      <td>Yangon</td>\n",
       "      <td>Member</td>\n",
       "      <td>Male</td>\n",
       "      <td>Food and beverages</td>\n",
       "      <td>31.84</td>\n",
       "      <td>1</td>\n",
       "      <td>1.5920</td>\n",
       "      <td>33.4320</td>\n",
       "      <td>2/9/2019</td>\n",
       "      <td>13:22</td>\n",
       "      <td>Cash</td>\n",
       "      <td>31.84</td>\n",
       "      <td>4.761905</td>\n",
       "      <td>1.5920</td>\n",
       "      <td>7.7</td>\n",
       "    </tr>\n",
       "    <tr>\n",
       "      <th>998</th>\n",
       "      <td>347-56-2442</td>\n",
       "      <td>A</td>\n",
       "      <td>Yangon</td>\n",
       "      <td>Normal</td>\n",
       "      <td>Male</td>\n",
       "      <td>Home and lifestyle</td>\n",
       "      <td>65.82</td>\n",
       "      <td>1</td>\n",
       "      <td>3.2910</td>\n",
       "      <td>69.1110</td>\n",
       "      <td>2/22/2019</td>\n",
       "      <td>15:33</td>\n",
       "      <td>Cash</td>\n",
       "      <td>65.82</td>\n",
       "      <td>4.761905</td>\n",
       "      <td>3.2910</td>\n",
       "      <td>4.1</td>\n",
       "    </tr>\n",
       "    <tr>\n",
       "      <th>999</th>\n",
       "      <td>849-09-3807</td>\n",
       "      <td>A</td>\n",
       "      <td>Yangon</td>\n",
       "      <td>Member</td>\n",
       "      <td>Female</td>\n",
       "      <td>Fashion accessories</td>\n",
       "      <td>88.34</td>\n",
       "      <td>7</td>\n",
       "      <td>30.9190</td>\n",
       "      <td>649.2990</td>\n",
       "      <td>2/18/2019</td>\n",
       "      <td>13:28</td>\n",
       "      <td>Cash</td>\n",
       "      <td>618.38</td>\n",
       "      <td>4.761905</td>\n",
       "      <td>30.9190</td>\n",
       "      <td>6.6</td>\n",
       "    </tr>\n",
       "  </tbody>\n",
       "</table>\n",
       "<p>1000 rows × 17 columns</p>\n",
       "</div>"
      ],
      "text/plain": [
       "      Invoice ID Branch       City Customer type  Gender  \\\n",
       "0    750-67-8428      A     Yangon        Member  Female   \n",
       "1    226-31-3081      C  Naypyitaw        Normal  Female   \n",
       "2    631-41-3108      A     Yangon        Normal    Male   \n",
       "3    123-19-1176      A     Yangon        Member    Male   \n",
       "4    373-73-7910      A     Yangon        Normal    Male   \n",
       "..           ...    ...        ...           ...     ...   \n",
       "995  233-67-5758      C  Naypyitaw        Normal    Male   \n",
       "996  303-96-2227      B   Mandalay        Normal  Female   \n",
       "997  727-02-1313      A     Yangon        Member    Male   \n",
       "998  347-56-2442      A     Yangon        Normal    Male   \n",
       "999  849-09-3807      A     Yangon        Member  Female   \n",
       "\n",
       "               Product line  Unit price  Quantity   Tax 5%      Total  \\\n",
       "0         Health and beauty       74.69         7  26.1415   548.9715   \n",
       "1    Electronic accessories       15.28         5   3.8200    80.2200   \n",
       "2        Home and lifestyle       46.33         7  16.2155   340.5255   \n",
       "3         Health and beauty       58.22         8  23.2880   489.0480   \n",
       "4         Sports and travel       86.31         7  30.2085   634.3785   \n",
       "..                      ...         ...       ...      ...        ...   \n",
       "995       Health and beauty       40.35         1   2.0175    42.3675   \n",
       "996      Home and lifestyle       97.38        10  48.6900  1022.4900   \n",
       "997      Food and beverages       31.84         1   1.5920    33.4320   \n",
       "998      Home and lifestyle       65.82         1   3.2910    69.1110   \n",
       "999     Fashion accessories       88.34         7  30.9190   649.2990   \n",
       "\n",
       "          Date   Time      Payment    cogs  gross margin percentage  \\\n",
       "0     1/5/2019  13:08      Ewallet  522.83                 4.761905   \n",
       "1     3/8/2019  10:29         Cash   76.40                 4.761905   \n",
       "2     3/3/2019  13:23  Credit card  324.31                 4.761905   \n",
       "3    1/27/2019  20:33      Ewallet  465.76                 4.761905   \n",
       "4     2/8/2019  10:37      Ewallet  604.17                 4.761905   \n",
       "..         ...    ...          ...     ...                      ...   \n",
       "995  1/29/2019  13:46      Ewallet   40.35                 4.761905   \n",
       "996   3/2/2019  17:16      Ewallet  973.80                 4.761905   \n",
       "997   2/9/2019  13:22         Cash   31.84                 4.761905   \n",
       "998  2/22/2019  15:33         Cash   65.82                 4.761905   \n",
       "999  2/18/2019  13:28         Cash  618.38                 4.761905   \n",
       "\n",
       "     gross income  Rating  \n",
       "0         26.1415     9.1  \n",
       "1          3.8200     9.6  \n",
       "2         16.2155     7.4  \n",
       "3         23.2880     8.4  \n",
       "4         30.2085     5.3  \n",
       "..            ...     ...  \n",
       "995        2.0175     6.2  \n",
       "996       48.6900     4.4  \n",
       "997        1.5920     7.7  \n",
       "998        3.2910     4.1  \n",
       "999       30.9190     6.6  \n",
       "\n",
       "[1000 rows x 17 columns]"
      ]
     },
     "execution_count": 3,
     "metadata": {},
     "output_type": "execute_result"
    }
   ],
   "source": [
    "# First is to understand the structure of the data to create an appropriate table for it and become familiar with its content\n",
    "\n",
    "# loads the pandas library\n",
    "import pandas as pd\n",
    "\n",
    "# reads the data\n",
    "df = pd.read_csv ('https://raw.githubusercontent.com/MiguelBlair/SQL_and_Tableau_customer_satisfaction_analysis/refs/heads/main/Raw_data/supermarket_sales.csv')\n",
    "\n",
    "# previews the data\n",
    "df"
   ]
  },
  {
   "cell_type": "code",
   "execution_count": 4,
   "id": "500873c1",
   "metadata": {},
   "outputs": [
    {
     "data": {
      "text/plain": [
       "Invoice ID                  object\n",
       "Branch                      object\n",
       "City                        object\n",
       "Customer type               object\n",
       "Gender                      object\n",
       "Product line                object\n",
       "Unit price                 float64\n",
       "Quantity                     int64\n",
       "Tax 5%                     float64\n",
       "Total                      float64\n",
       "Date                        object\n",
       "Time                        object\n",
       "Payment                     object\n",
       "cogs                       float64\n",
       "gross margin percentage    float64\n",
       "gross income               float64\n",
       "Rating                     float64\n",
       "dtype: object"
      ]
     },
     "execution_count": 4,
     "metadata": {},
     "output_type": "execute_result"
    }
   ],
   "source": [
    "#reads the data types\n",
    "df.dtypes"
   ]
  },
  {
   "cell_type": "markdown",
   "id": "0c30599d",
   "metadata": {},
   "source": [
    "Now knowing all the columns and data types, I created a table to import the data\n",
    "![img](Images/create_table.png)"
   ]
  },
  {
   "cell_type": "markdown",
   "id": "b0771707",
   "metadata": {},
   "source": [
    "Then I loaded in the data\n",
    "![img](Images/load_data.png)"
   ]
  },
  {
   "cell_type": "markdown",
   "id": "aed420ac",
   "metadata": {},
   "source": [
    "In SQL, to view the data types and the amount of columns, I would use the DESCRIBE query or access the table in SQL tools in VS code\n",
    "![img](Images/data_types.png)"
   ]
  },
  {
   "cell_type": "markdown",
   "id": "6a2acdb8",
   "metadata": {
    "papermill": {
     "duration": 0.018853,
     "end_time": "2024-10-08T18:48:16.731346",
     "exception": false,
     "start_time": "2024-10-08T18:48:16.712493",
     "status": "completed"
    },
    "tags": []
   },
   "source": [
    ">What this preview tells us about this data-\n",
    "\n",
    "1. There are 17 columns.\n",
    "\n",
    "2. The columns in the datasets are: Invoice_ID, Branch, City, Customer_type, Gender, Product_line, Unit_price, Quantity, Tax_5, Total, Date, Time, Payment, cogs, gross_margin_percentage, gross_income, Rating\n",
    "\n",
    "3. Most of the data types of the columns are appropriate for this analysis, other will need to be set."
   ]
  },
  {
   "cell_type": "markdown",
   "id": "abdfcb82",
   "metadata": {
    "papermill": {
     "duration": 0.018777,
     "end_time": "2024-10-08T18:48:16.769330",
     "exception": false,
     "start_time": "2024-10-08T18:48:16.750553",
     "status": "completed"
    },
    "tags": []
   },
   "source": [
    "## 2. Defining the problems/ goals\n",
    "\n",
    "> Previewing the column and data types, the ideal key insights to extract would be-\n",
    "\n",
    "1.What are the sales trends over time by product line? \n",
    " - Aggregate total sales and analyze trends for different product lines over time.\n",
    " \n",
    "2.What is the average purchase amount and frequency by customer type and gender? \n",
    " - Compute average transaction value and count of transactions for each customer type and gender.\n",
    "\n",
    "3.Which product lines or branches have the highest profit margins? \n",
    " - Calculate profit margins (gross margin as a percentage of total) for each product line and branch to find the highest ones.\n",
    " \n",
    "4.How does the payment method impact the average transaction value? \n",
    " - Compare average transaction values across different payment methods to determine if there are significant differences."
   ]
  },
  {
   "cell_type": "markdown",
   "id": "ab781f83",
   "metadata": {
    "papermill": {
     "duration": 0.018638,
     "end_time": "2024-10-08T18:48:16.806899",
     "exception": false,
     "start_time": "2024-10-08T18:48:16.788261",
     "status": "completed"
    },
    "tags": []
   },
   "source": [
    "## 3. Data cleaning\n",
    "\n",
    "This data is fairly clean, it just needs appropriate data types set, and a \"safe\" copy of the original table for data integrity and to prevent data loss, also this table will only have the relevant columsn to extract the insights indicated above."
   ]
  },
  {
   "cell_type": "markdown",
   "id": "d6b32d3f",
   "metadata": {},
   "source": [
    "Here I created the safe copy with only the relevant columns\n",
    "![img](Images/safe_copy.png)"
   ]
  },
  {
   "cell_type": "markdown",
   "id": "063e738a",
   "metadata": {},
   "source": [
    "Here I checked for duplicate rows\n",
    "![img](Images/dups.png)\n",
    "The result set is empty, therefore no duplicates"
   ]
  },
  {
   "cell_type": "markdown",
   "id": "747b17d3",
   "metadata": {},
   "source": [
    "Here I checked for null values\n",
    "![img](Images/nulls.png)\n",
    "The result set is empty, therefore no null values"
   ]
  },
  {
   "cell_type": "markdown",
   "id": "205379b9",
   "metadata": {},
   "source": [
    "Here I changed the Date column to it's appropriate data type\n",
    "![img](Images/date_type.png)"
   ]
  },
  {
   "cell_type": "markdown",
   "id": "57b56b95",
   "metadata": {
    "papermill": {
     "duration": 0.034095,
     "end_time": "2024-10-08T18:48:17.507871",
     "exception": false,
     "start_time": "2024-10-08T18:48:17.473776",
     "status": "completed"
    },
    "tags": []
   },
   "source": [
    "The data is now clean, the appropriate data types are set, those are;\n",
    "\n",
    "Branch: VARCHAR\n",
    "\n",
    "Rating: FLOAT\n",
    "\n",
    "Product_line: VARCHAR\n",
    "\n",
    "Total: FLOAT\n",
    "\n",
    "Date: DATE\n",
    "\n",
    "Payment: VARCHAR\n",
    "\n",
    "gross_margin_percentage: FLOAT\n",
    "\n",
    "gross_income: FLOAT\n",
    "\n",
    "I created a 'safe' copy of the data with only the relevant columns, checked for duplicate and null values, and assigned appropriate data type to the Date column. Here I started extracting insights and visualizing them."
   ]
  },
  {
   "cell_type": "markdown",
   "id": "818f530d",
   "metadata": {
    "papermill": {
     "duration": 0.031361,
     "end_time": "2024-10-08T18:48:17.572305",
     "exception": false,
     "start_time": "2024-10-08T18:48:17.540944",
     "status": "completed"
    },
    "tags": []
   },
   "source": [
    "## 4. Data analysis\n",
    "\n",
    "**First question-**\n",
    "\n",
    "  1. What are the sales trends over time by product line?\n",
    " - Aggregate total sales and analyze trends for different product lines over time.\n"
   ]
  },
  {
   "cell_type": "markdown",
   "id": "d820fcf2",
   "metadata": {},
   "source": [
    "I ran this query to aggregate the columns\n",
    "![Image](Images/q1.png)"
   ]
  },
  {
   "cell_type": "markdown",
   "id": "57484df1",
   "metadata": {},
   "source": [
    "[![Sales over time viz](https://public.tableau.com/shared/CXJDQ8TNF?:display_count=n&:origin=viz_share_link)](https://public.tableau.com/shared/CXJDQ8TNF?:display_count=n&:origin=viz_share_link)\n"
   ]
  },
  {
   "cell_type": "markdown",
   "id": "f422fcbe",
   "metadata": {
    "papermill": {
     "duration": 0.036915,
     "end_time": "2024-10-08T18:48:17.881529",
     "exception": false,
     "start_time": "2024-10-08T18:48:17.844614",
     "status": "completed"
    },
    "tags": []
   },
   "source": [
    ">Conclusion\n",
    "\n",
    "From the data on total sales across different product lines for the first three months of 2019, we can identify several key trends:\n",
    "\n",
    "1. **Top Performing Product Lines:**\n",
    " - **Sports and Travel** consistently recorded high sales, peaking in January 2019 and maintaining strong performance throughout the quarter, showing a sustained demand in this category.\n",
    " - **Home and Lifestyle** also showed strong sales, particularly in March, where it had the highest total sales among all product lines.\n",
    "\n",
    "2. **Product Lines with Steady Sales:**\n",
    " - **Food and Beverages** showed relatively consistent sales across the three months, though it experienced a slight drop in March compared to January and February.\n",
    " - **Fashion Accessories** remained stable but with a slight decline in March.\n",
    "\n",
    "3. **Fluctuations in Sales:**\n",
    " - **Health and Beauty** saw notable fluctuations, with the highest sales in March but a dip in February. It suggests possible seasonal or promotional influences.\n",
    " - **Electronic Accessories** sales peaked in January and gradually declined by March, indicating reduced interest or market saturation.\n",
    "\n",
    "Overall, the data reflects that **Sports and Travel** and **Home and Lifestyle** are the strongest performers, while **Health and Beauty** and **Electronic Accessories** experience more variability in sales."
   ]
  },
  {
   "cell_type": "markdown",
   "id": "867fdf1f",
   "metadata": {
    "papermill": {
     "duration": 0.036201,
     "end_time": "2024-10-08T18:48:17.954701",
     "exception": false,
     "start_time": "2024-10-08T18:48:17.918500",
     "status": "completed"
    },
    "tags": []
   },
   "source": [
    "**Second question-**\n",
    "\n",
    "  2. Which categories have the highest-rated products?\n",
    "Investigate which product categories receive the highest ratings overall. This could help identify top-performing categories."
   ]
  },
  {
   "cell_type": "markdown",
   "id": "f7c05534",
   "metadata": {
    "papermill": {
     "duration": 0.036493,
     "end_time": "2024-10-08T18:48:18.027916",
     "exception": false,
     "start_time": "2024-10-08T18:48:17.991423",
     "status": "completed"
    },
    "tags": []
   },
   "source": [
    "This query accomplishes this-"
   ]
  },
  {
   "cell_type": "markdown",
   "id": "609ef370",
   "metadata": {},
   "source": [
    "![Image](Images/q2.png)"
   ]
  },
  {
   "cell_type": "markdown",
   "id": "002d0682",
   "metadata": {},
   "source": [
    "[![Average rating viz](https://public.tableau.com/shared/MD6YM46KT?:display_count=n&:origin=viz_share_link)](https://public.tableau.com/shared/MD6YM46KT?:display_count=n&:origin=viz_share_link)"
   ]
  },
  {
   "cell_type": "markdown",
   "id": "cf3740fa",
   "metadata": {
    "papermill": {
     "duration": 0.039657,
     "end_time": "2024-10-08T18:48:18.288605",
     "exception": false,
     "start_time": "2024-10-08T18:48:18.248948",
     "status": "completed"
    },
    "tags": []
   },
   "source": [
    ">Conclusion\n",
    "\n",
    " The top-rated product category is **Food and Beverages**, with an average rating of 7.11, indicating a strong customer preference for these products. **Fashion Accessories** and **Health and Beauty** also perform well, with average ratings of 7.03 and 7.00, respectively. While **Electronic Accessories** (6.92) and **Sports and Travel** (6.91) are slightly lower, they still maintain competitive ratings. These insights suggest that focusing on **Food and Beverages** and **Fashion Accessories** could yield the highest customer satisfaction."
   ]
  },
  {
   "cell_type": "markdown",
   "id": "123f3e19",
   "metadata": {
    "papermill": {
     "duration": 0.039737,
     "end_time": "2024-10-08T18:48:18.368553",
     "exception": false,
     "start_time": "2024-10-08T18:48:18.328816",
     "status": "completed"
    },
    "tags": []
   },
   "source": [
    "**Third question**\n",
    "\n",
    "3. Which product lines or branches have the highest profit margins?\n",
    " - Calculate profit margins (gross margin as a percentage of total) for each product line and branch to find the highest ones."
   ]
  },
  {
   "cell_type": "markdown",
   "id": "6defa9c8",
   "metadata": {},
   "source": [
    "![Image](Images/q3.png)"
   ]
  },
  {
   "cell_type": "markdown",
   "id": "8be7147a",
   "metadata": {},
   "source": [
    "[![Profit margin viz](https://public.tableau.com/views/SQLandTableauCustomersatisfactionanalysis/Story1?:language=en-US&:sid=&:redirect=auth&:display_count=n&:origin=viz_share_link)](https://public.tableau.com/views/SQLandTableauCustomersatisfactionanalysis/Story1?:language=en-US&:sid=&:redirect=auth&:display_count=n&:origin=viz_share_link)\n"
   ]
  },
  {
   "cell_type": "markdown",
   "id": "f858f0cf",
   "metadata": {
    "papermill": {
     "duration": 0.044108,
     "end_time": "2024-10-08T18:48:18.661011",
     "exception": false,
     "start_time": "2024-10-08T18:48:18.616903",
     "status": "completed"
    },
    "tags": []
   },
   "source": [
    ">Conclusion:\n",
    "\n",
    "The analysis shows that all product lines and branches have a consistent profit margin percentage of approximately **4.76%**, with no significant variation across branches or product lines. \n",
    "\n",
    "This uniformity suggests that the company applies a standardized pricing or cost structure across different categories and locations. As a result, none of the product lines or branches stand out with particularly higher profit margins. Further analysis could focus on identifying ways to increase profitability in specific branches or product lines through cost reduction or pricing optimization."
   ]
  },
  {
   "cell_type": "markdown",
   "id": "24a0b1b6",
   "metadata": {
    "papermill": {
     "duration": 0.044141,
     "end_time": "2024-10-08T18:48:18.749567",
     "exception": false,
     "start_time": "2024-10-08T18:48:18.705426",
     "status": "completed"
    },
    "tags": []
   },
   "source": [
    "**Fourth question-**\n",
    "\n",
    "4. How does the payment method impact the average transaction value?\n",
    " - Compare average transaction values across different payment methods to determine if there are significant differences."
   ]
  },
  {
   "cell_type": "markdown",
   "id": "97cde895",
   "metadata": {},
   "source": [
    "![Image](Images/q4.png)"
   ]
  },
  {
   "cell_type": "markdown",
   "id": "cf338995",
   "metadata": {},
   "source": [
    "[![Average transaction viz](https://public.tableau.com/shared/SZF4ZYJ6M?:display_count=n&:origin=viz_share_link)](https://public.tableau.com/shared/SZF4ZYJ6M?:display_count=n&:origin=viz_share_link)\n"
   ]
  },
  {
   "cell_type": "markdown",
   "id": "c4908088",
   "metadata": {
    "papermill": {
     "duration": 0.049516,
     "end_time": "2024-10-08T18:48:19.067475",
     "exception": false,
     "start_time": "2024-10-08T18:48:19.017959",
     "status": "completed"
    },
    "tags": []
   },
   "source": [
    ">Conclusion:\n",
    "\n",
    "From the results, we can observe that the payment method has a noticeable impact on the average transaction value:\n",
    "\n",
    "- **Cash** has the highest average transaction value at **326.18**.\n",
    "- **Credit card** follows closely with an average transaction value of **324.01**.\n",
    "- **Ewallet** has the lowest average transaction value at **318.82**.\n",
    "\n",
    "Although the differences are not drastic, cash transactions tend to have slightly higher values compared to credit cards and ewallets. This could suggest that customers paying with cash might be purchasing more expensive items or in larger quantities. Conversely, ewallet users may be making more frequent, smaller purchases. Further analysis could explore additional factors such as customer demographics or product categories to explain these differences."
   ]
  },
  {
   "cell_type": "markdown",
   "id": "c5ca9536",
   "metadata": {
    "papermill": {
     "duration": 0.049106,
     "end_time": "2024-10-08T18:48:19.166791",
     "exception": false,
     "start_time": "2024-10-08T18:48:19.117685",
     "status": "completed"
    },
    "tags": []
   },
   "source": [
    "# Summary:\n",
    "\n",
    "The analysis of the dataset provides insights into key factors impacting sales, customer satisfaction, profitability, and payment methods.\n",
    "\n",
    "1. **Sales Trends Over Time by Product Line:**\n",
    " - **Conclusion:** \n",
    " - **Sports and Travel** and **Home and Lifestyle** are the top-performing product lines, with **Sports and Travel** peaking in January and **Home and Lifestyle** showing the strongest sales in March.\n",
    " - **Health and Beauty** and **Electronic Accessories** exhibited fluctuations, with **Health and Beauty** seeing a notable increase in March and **Electronic Accessories** experiencing a decline over time.\n",
    " - **Food and Beverages** and **Fashion Accessories** remained stable, with minor fluctuations in sales.\n",
    "\n",
    "2. **Highest-Rated Product Categories:**\n",
    " - **Conclusion:** \n",
    " - The top-rated product categories are:\n",
    " - **Food and Beverages** – Average Rating: 7.11\n",
    " - **Fashion Accessories** – Average Rating: 7.03\n",
    " - **Health and Beauty** – Average Rating: 7.00\n",
    " - These categories receive the highest ratings, indicating strong customer satisfaction. Although **Electronic Accessories** (6.92) and **Sports and Travel** (6.91) are slightly lower, they still maintain competitive ratings.\n",
    "\n",
    "3. **Profit Margins by Product Line and Branch:**\n",
    " - **Conclusion:** \n",
    " - The profit margins for all product lines and branches are consistent at approximately **4.76%**, suggesting a standardized pricing or cost structure across categories and locations. No product line or branch significantly stands out in terms of profitability.\n",
    "\n",
    "4. **Impact of Payment Method on Average Transaction Value:**\n",
    " - **Conclusion:** \n",
    " - **Cash** transactions have the highest average transaction value at **₹326.18**, followed by **Credit Card** at **₹324.01**, and **Ewallet** at **₹318.82**. While the differences are subtle, cash transactions tend to involve slightly larger or more expensive purchases, whereas ewallet users may make smaller, more frequent purchases.\n",
    "\n",
    "Overall, the analysis highlights strong sales trends in certain product lines, high customer satisfaction in specific categories, consistent profit margins across branches and product lines, and noticeable differences in transaction values based on payment methods."
   ]
  },
  {
   "cell_type": "markdown",
   "id": "14270c7b",
   "metadata": {
    "papermill": {
     "duration": 0.049113,
     "end_time": "2024-10-08T18:48:19.265329",
     "exception": false,
     "start_time": "2024-10-08T18:48:19.216216",
     "status": "completed"
    },
    "tags": []
   },
   "source": [
    "### Thank you for your time\n",
    "\n",
    "If you have any ideas or suggestions for this project, feel free to make those changes or just comment it."
   ]
  }
 ],
 "metadata": {
  "kaggle": {
   "accelerator": "none",
   "dataSources": [
    {
     "datasetId": 205965,
     "sourceId": 451952,
     "sourceType": "datasetVersion"
    },
    {
     "datasetId": 5767112,
     "sourceId": 9481183,
     "sourceType": "datasetVersion"
    },
    {
     "datasetId": 5839808,
     "sourceId": 9578692,
     "sourceType": "datasetVersion"
    }
   ],
   "dockerImageVersionId": 30775,
   "isGpuEnabled": false,
   "isInternetEnabled": true,
   "language": "python",
   "sourceType": "notebook"
  },
  "kernelspec": {
   "display_name": "base",
   "language": "python",
   "name": "python3"
  },
  "language_info": {
   "codemirror_mode": {
    "name": "ipython",
    "version": 3
   },
   "file_extension": ".py",
   "mimetype": "text/x-python",
   "name": "python",
   "nbconvert_exporter": "python",
   "pygments_lexer": "ipython3",
   "version": "3.12.7"
  },
  "papermill": {
   "default_parameters": {},
   "duration": 7.325922,
   "end_time": "2024-10-08T18:48:19.835999",
   "environment_variables": {},
   "exception": null,
   "input_path": "__notebook__.ipynb",
   "output_path": "__notebook__.ipynb",
   "parameters": {},
   "start_time": "2024-10-08T18:48:12.510077",
   "version": "2.6.0"
  }
 },
 "nbformat": 4,
 "nbformat_minor": 5
}

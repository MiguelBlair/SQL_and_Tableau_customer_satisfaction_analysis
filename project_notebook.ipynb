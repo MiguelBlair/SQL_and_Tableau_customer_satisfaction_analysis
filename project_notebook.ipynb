{
 "cells": [
  {
   "cell_type": "markdown",
   "id": "7c76fa68",
   "metadata": {
    "papermill": {
     "duration": 0.011935,
     "end_time": "2024-10-08T18:48:15.503721",
     "exception": false,
     "start_time": "2024-10-08T18:48:15.491786",
     "status": "completed"
    },
    "tags": []
   },
   "source": [
    "# Customer satisfaction analysis"
   ]
  },
  {
   "cell_type": "markdown",
   "id": "2210038a",
   "metadata": {
    "papermill": {
     "duration": 0.011014,
     "end_time": "2024-10-08T18:48:15.526378",
     "exception": false,
     "start_time": "2024-10-08T18:48:15.515364",
     "status": "completed"
    },
    "tags": []
   },
   "source": [
    "![Thumbnail](https://www.corporatevision-news.com/wp-content/uploads/2022/10/Customer-Segmentation.jpg)"
   ]
  },
  {
   "cell_type": "markdown",
   "id": "e94027de",
   "metadata": {
    "papermill": {
     "duration": 0.010884,
     "end_time": "2024-10-08T18:48:15.548653",
     "exception": false,
     "start_time": "2024-10-08T18:48:15.537769",
     "status": "completed"
    },
    "tags": []
   },
   "source": [
    "This project is focused on customer satisfaction for supermarkets, a dynamic and expanding sector. Examining customer demographics and purchasing behaviors, I can gain valuable insights into how different customer groups influence sales and profitability. This analysis is crucial for refining marketing strategies and enhancing customer engagement, making it especially useful for supermarkets or any product and customer based business for that matter looking to optimize their operations.\n",
    "\n",
    "## 1. Data collection\n",
    "\n",
    "The (CSV) dataset that I analysed in this project comes from [Aung Pyae](https://www.kaggle.com/datasets/aungpyaeap/supermarket-sales). The tools for this project are MySQL for cleaning, querying and extracting data, ran in the visual studio code integrated developement environment, and Tableau for visualizing data."
   ]
  },
  {
   "cell_type": "code",
   "execution_count": 5,
   "id": "c088df77",
   "metadata": {
    "execution": {
     "iopub.execute_input": "2024-10-08T18:48:15.573440Z",
     "iopub.status.busy": "2024-10-08T18:48:15.572885Z",
     "iopub.status.idle": "2024-10-08T18:48:16.526865Z",
     "shell.execute_reply": "2024-10-08T18:48:16.525796Z"
    },
    "papermill": {
     "duration": 0.969985,
     "end_time": "2024-10-08T18:48:16.529989",
     "exception": false,
     "start_time": "2024-10-08T18:48:15.560004",
     "status": "completed"
    },
    "scrolled": true,
    "tags": []
   },
   "outputs": [
    {
     "ename": "HTTPError",
     "evalue": "HTTP Error 404: Not Found",
     "output_type": "error",
     "traceback": [
      "\u001b[0;31m---------------------------------------------------------------------------\u001b[0m",
      "\u001b[0;31mHTTPError\u001b[0m                                 Traceback (most recent call last)",
      "Cell \u001b[0;32mIn[5], line 7\u001b[0m\n\u001b[1;32m      4\u001b[0m \u001b[38;5;28;01mimport\u001b[39;00m \u001b[38;5;21;01mpandas\u001b[39;00m \u001b[38;5;28;01mas\u001b[39;00m \u001b[38;5;21;01mpd\u001b[39;00m\n\u001b[1;32m      6\u001b[0m \u001b[38;5;66;03m# reads the data\u001b[39;00m\n\u001b[0;32m----> 7\u001b[0m df \u001b[38;5;241m=\u001b[39m pd\u001b[38;5;241m.\u001b[39mread_csv (\u001b[38;5;124m'\u001b[39m\u001b[38;5;124mhttps://raw.githubusercontent.com/MiguelBlair/SQL_and_Tableau_customer_satisfaction_analysis/refs/heads/main/Data_set/supermarket_sales.csv\u001b[39m\u001b[38;5;124m'\u001b[39m)\n\u001b[1;32m      9\u001b[0m \u001b[38;5;66;03m# previews the data\u001b[39;00m\n\u001b[1;32m     10\u001b[0m df\n",
      "File \u001b[0;32m~/anaconda3/lib/python3.12/site-packages/pandas/io/parsers/readers.py:1026\u001b[0m, in \u001b[0;36mread_csv\u001b[0;34m(filepath_or_buffer, sep, delimiter, header, names, index_col, usecols, dtype, engine, converters, true_values, false_values, skipinitialspace, skiprows, skipfooter, nrows, na_values, keep_default_na, na_filter, verbose, skip_blank_lines, parse_dates, infer_datetime_format, keep_date_col, date_parser, date_format, dayfirst, cache_dates, iterator, chunksize, compression, thousands, decimal, lineterminator, quotechar, quoting, doublequote, escapechar, comment, encoding, encoding_errors, dialect, on_bad_lines, delim_whitespace, low_memory, memory_map, float_precision, storage_options, dtype_backend)\u001b[0m\n\u001b[1;32m   1013\u001b[0m kwds_defaults \u001b[38;5;241m=\u001b[39m _refine_defaults_read(\n\u001b[1;32m   1014\u001b[0m     dialect,\n\u001b[1;32m   1015\u001b[0m     delimiter,\n\u001b[0;32m   (...)\u001b[0m\n\u001b[1;32m   1022\u001b[0m     dtype_backend\u001b[38;5;241m=\u001b[39mdtype_backend,\n\u001b[1;32m   1023\u001b[0m )\n\u001b[1;32m   1024\u001b[0m kwds\u001b[38;5;241m.\u001b[39mupdate(kwds_defaults)\n\u001b[0;32m-> 1026\u001b[0m \u001b[38;5;28;01mreturn\u001b[39;00m _read(filepath_or_buffer, kwds)\n",
      "File \u001b[0;32m~/anaconda3/lib/python3.12/site-packages/pandas/io/parsers/readers.py:620\u001b[0m, in \u001b[0;36m_read\u001b[0;34m(filepath_or_buffer, kwds)\u001b[0m\n\u001b[1;32m    617\u001b[0m _validate_names(kwds\u001b[38;5;241m.\u001b[39mget(\u001b[38;5;124m\"\u001b[39m\u001b[38;5;124mnames\u001b[39m\u001b[38;5;124m\"\u001b[39m, \u001b[38;5;28;01mNone\u001b[39;00m))\n\u001b[1;32m    619\u001b[0m \u001b[38;5;66;03m# Create the parser.\u001b[39;00m\n\u001b[0;32m--> 620\u001b[0m parser \u001b[38;5;241m=\u001b[39m TextFileReader(filepath_or_buffer, \u001b[38;5;241m*\u001b[39m\u001b[38;5;241m*\u001b[39mkwds)\n\u001b[1;32m    622\u001b[0m \u001b[38;5;28;01mif\u001b[39;00m chunksize \u001b[38;5;129;01mor\u001b[39;00m iterator:\n\u001b[1;32m    623\u001b[0m     \u001b[38;5;28;01mreturn\u001b[39;00m parser\n",
      "File \u001b[0;32m~/anaconda3/lib/python3.12/site-packages/pandas/io/parsers/readers.py:1620\u001b[0m, in \u001b[0;36mTextFileReader.__init__\u001b[0;34m(self, f, engine, **kwds)\u001b[0m\n\u001b[1;32m   1617\u001b[0m     \u001b[38;5;28mself\u001b[39m\u001b[38;5;241m.\u001b[39moptions[\u001b[38;5;124m\"\u001b[39m\u001b[38;5;124mhas_index_names\u001b[39m\u001b[38;5;124m\"\u001b[39m] \u001b[38;5;241m=\u001b[39m kwds[\u001b[38;5;124m\"\u001b[39m\u001b[38;5;124mhas_index_names\u001b[39m\u001b[38;5;124m\"\u001b[39m]\n\u001b[1;32m   1619\u001b[0m \u001b[38;5;28mself\u001b[39m\u001b[38;5;241m.\u001b[39mhandles: IOHandles \u001b[38;5;241m|\u001b[39m \u001b[38;5;28;01mNone\u001b[39;00m \u001b[38;5;241m=\u001b[39m \u001b[38;5;28;01mNone\u001b[39;00m\n\u001b[0;32m-> 1620\u001b[0m \u001b[38;5;28mself\u001b[39m\u001b[38;5;241m.\u001b[39m_engine \u001b[38;5;241m=\u001b[39m \u001b[38;5;28mself\u001b[39m\u001b[38;5;241m.\u001b[39m_make_engine(f, \u001b[38;5;28mself\u001b[39m\u001b[38;5;241m.\u001b[39mengine)\n",
      "File \u001b[0;32m~/anaconda3/lib/python3.12/site-packages/pandas/io/parsers/readers.py:1880\u001b[0m, in \u001b[0;36mTextFileReader._make_engine\u001b[0;34m(self, f, engine)\u001b[0m\n\u001b[1;32m   1878\u001b[0m     \u001b[38;5;28;01mif\u001b[39;00m \u001b[38;5;124m\"\u001b[39m\u001b[38;5;124mb\u001b[39m\u001b[38;5;124m\"\u001b[39m \u001b[38;5;129;01mnot\u001b[39;00m \u001b[38;5;129;01min\u001b[39;00m mode:\n\u001b[1;32m   1879\u001b[0m         mode \u001b[38;5;241m+\u001b[39m\u001b[38;5;241m=\u001b[39m \u001b[38;5;124m\"\u001b[39m\u001b[38;5;124mb\u001b[39m\u001b[38;5;124m\"\u001b[39m\n\u001b[0;32m-> 1880\u001b[0m \u001b[38;5;28mself\u001b[39m\u001b[38;5;241m.\u001b[39mhandles \u001b[38;5;241m=\u001b[39m get_handle(\n\u001b[1;32m   1881\u001b[0m     f,\n\u001b[1;32m   1882\u001b[0m     mode,\n\u001b[1;32m   1883\u001b[0m     encoding\u001b[38;5;241m=\u001b[39m\u001b[38;5;28mself\u001b[39m\u001b[38;5;241m.\u001b[39moptions\u001b[38;5;241m.\u001b[39mget(\u001b[38;5;124m\"\u001b[39m\u001b[38;5;124mencoding\u001b[39m\u001b[38;5;124m\"\u001b[39m, \u001b[38;5;28;01mNone\u001b[39;00m),\n\u001b[1;32m   1884\u001b[0m     compression\u001b[38;5;241m=\u001b[39m\u001b[38;5;28mself\u001b[39m\u001b[38;5;241m.\u001b[39moptions\u001b[38;5;241m.\u001b[39mget(\u001b[38;5;124m\"\u001b[39m\u001b[38;5;124mcompression\u001b[39m\u001b[38;5;124m\"\u001b[39m, \u001b[38;5;28;01mNone\u001b[39;00m),\n\u001b[1;32m   1885\u001b[0m     memory_map\u001b[38;5;241m=\u001b[39m\u001b[38;5;28mself\u001b[39m\u001b[38;5;241m.\u001b[39moptions\u001b[38;5;241m.\u001b[39mget(\u001b[38;5;124m\"\u001b[39m\u001b[38;5;124mmemory_map\u001b[39m\u001b[38;5;124m\"\u001b[39m, \u001b[38;5;28;01mFalse\u001b[39;00m),\n\u001b[1;32m   1886\u001b[0m     is_text\u001b[38;5;241m=\u001b[39mis_text,\n\u001b[1;32m   1887\u001b[0m     errors\u001b[38;5;241m=\u001b[39m\u001b[38;5;28mself\u001b[39m\u001b[38;5;241m.\u001b[39moptions\u001b[38;5;241m.\u001b[39mget(\u001b[38;5;124m\"\u001b[39m\u001b[38;5;124mencoding_errors\u001b[39m\u001b[38;5;124m\"\u001b[39m, \u001b[38;5;124m\"\u001b[39m\u001b[38;5;124mstrict\u001b[39m\u001b[38;5;124m\"\u001b[39m),\n\u001b[1;32m   1888\u001b[0m     storage_options\u001b[38;5;241m=\u001b[39m\u001b[38;5;28mself\u001b[39m\u001b[38;5;241m.\u001b[39moptions\u001b[38;5;241m.\u001b[39mget(\u001b[38;5;124m\"\u001b[39m\u001b[38;5;124mstorage_options\u001b[39m\u001b[38;5;124m\"\u001b[39m, \u001b[38;5;28;01mNone\u001b[39;00m),\n\u001b[1;32m   1889\u001b[0m )\n\u001b[1;32m   1890\u001b[0m \u001b[38;5;28;01massert\u001b[39;00m \u001b[38;5;28mself\u001b[39m\u001b[38;5;241m.\u001b[39mhandles \u001b[38;5;129;01mis\u001b[39;00m \u001b[38;5;129;01mnot\u001b[39;00m \u001b[38;5;28;01mNone\u001b[39;00m\n\u001b[1;32m   1891\u001b[0m f \u001b[38;5;241m=\u001b[39m \u001b[38;5;28mself\u001b[39m\u001b[38;5;241m.\u001b[39mhandles\u001b[38;5;241m.\u001b[39mhandle\n",
      "File \u001b[0;32m~/anaconda3/lib/python3.12/site-packages/pandas/io/common.py:728\u001b[0m, in \u001b[0;36mget_handle\u001b[0;34m(path_or_buf, mode, encoding, compression, memory_map, is_text, errors, storage_options)\u001b[0m\n\u001b[1;32m    725\u001b[0m     codecs\u001b[38;5;241m.\u001b[39mlookup_error(errors)\n\u001b[1;32m    727\u001b[0m \u001b[38;5;66;03m# open URLs\u001b[39;00m\n\u001b[0;32m--> 728\u001b[0m ioargs \u001b[38;5;241m=\u001b[39m _get_filepath_or_buffer(\n\u001b[1;32m    729\u001b[0m     path_or_buf,\n\u001b[1;32m    730\u001b[0m     encoding\u001b[38;5;241m=\u001b[39mencoding,\n\u001b[1;32m    731\u001b[0m     compression\u001b[38;5;241m=\u001b[39mcompression,\n\u001b[1;32m    732\u001b[0m     mode\u001b[38;5;241m=\u001b[39mmode,\n\u001b[1;32m    733\u001b[0m     storage_options\u001b[38;5;241m=\u001b[39mstorage_options,\n\u001b[1;32m    734\u001b[0m )\n\u001b[1;32m    736\u001b[0m handle \u001b[38;5;241m=\u001b[39m ioargs\u001b[38;5;241m.\u001b[39mfilepath_or_buffer\n\u001b[1;32m    737\u001b[0m handles: \u001b[38;5;28mlist\u001b[39m[BaseBuffer]\n",
      "File \u001b[0;32m~/anaconda3/lib/python3.12/site-packages/pandas/io/common.py:384\u001b[0m, in \u001b[0;36m_get_filepath_or_buffer\u001b[0;34m(filepath_or_buffer, encoding, compression, mode, storage_options)\u001b[0m\n\u001b[1;32m    382\u001b[0m \u001b[38;5;66;03m# assuming storage_options is to be interpreted as headers\u001b[39;00m\n\u001b[1;32m    383\u001b[0m req_info \u001b[38;5;241m=\u001b[39m urllib\u001b[38;5;241m.\u001b[39mrequest\u001b[38;5;241m.\u001b[39mRequest(filepath_or_buffer, headers\u001b[38;5;241m=\u001b[39mstorage_options)\n\u001b[0;32m--> 384\u001b[0m \u001b[38;5;28;01mwith\u001b[39;00m urlopen(req_info) \u001b[38;5;28;01mas\u001b[39;00m req:\n\u001b[1;32m    385\u001b[0m     content_encoding \u001b[38;5;241m=\u001b[39m req\u001b[38;5;241m.\u001b[39mheaders\u001b[38;5;241m.\u001b[39mget(\u001b[38;5;124m\"\u001b[39m\u001b[38;5;124mContent-Encoding\u001b[39m\u001b[38;5;124m\"\u001b[39m, \u001b[38;5;28;01mNone\u001b[39;00m)\n\u001b[1;32m    386\u001b[0m     \u001b[38;5;28;01mif\u001b[39;00m content_encoding \u001b[38;5;241m==\u001b[39m \u001b[38;5;124m\"\u001b[39m\u001b[38;5;124mgzip\u001b[39m\u001b[38;5;124m\"\u001b[39m:\n\u001b[1;32m    387\u001b[0m         \u001b[38;5;66;03m# Override compression based on Content-Encoding header\u001b[39;00m\n",
      "File \u001b[0;32m~/anaconda3/lib/python3.12/site-packages/pandas/io/common.py:289\u001b[0m, in \u001b[0;36murlopen\u001b[0;34m(*args, **kwargs)\u001b[0m\n\u001b[1;32m    283\u001b[0m \u001b[38;5;250m\u001b[39m\u001b[38;5;124;03m\"\"\"\u001b[39;00m\n\u001b[1;32m    284\u001b[0m \u001b[38;5;124;03mLazy-import wrapper for stdlib urlopen, as that imports a big chunk of\u001b[39;00m\n\u001b[1;32m    285\u001b[0m \u001b[38;5;124;03mthe stdlib.\u001b[39;00m\n\u001b[1;32m    286\u001b[0m \u001b[38;5;124;03m\"\"\"\u001b[39;00m\n\u001b[1;32m    287\u001b[0m \u001b[38;5;28;01mimport\u001b[39;00m \u001b[38;5;21;01murllib\u001b[39;00m\u001b[38;5;21;01m.\u001b[39;00m\u001b[38;5;21;01mrequest\u001b[39;00m\n\u001b[0;32m--> 289\u001b[0m \u001b[38;5;28;01mreturn\u001b[39;00m urllib\u001b[38;5;241m.\u001b[39mrequest\u001b[38;5;241m.\u001b[39murlopen(\u001b[38;5;241m*\u001b[39margs, \u001b[38;5;241m*\u001b[39m\u001b[38;5;241m*\u001b[39mkwargs)\n",
      "File \u001b[0;32m~/anaconda3/lib/python3.12/urllib/request.py:215\u001b[0m, in \u001b[0;36murlopen\u001b[0;34m(url, data, timeout, cafile, capath, cadefault, context)\u001b[0m\n\u001b[1;32m    213\u001b[0m \u001b[38;5;28;01melse\u001b[39;00m:\n\u001b[1;32m    214\u001b[0m     opener \u001b[38;5;241m=\u001b[39m _opener\n\u001b[0;32m--> 215\u001b[0m \u001b[38;5;28;01mreturn\u001b[39;00m opener\u001b[38;5;241m.\u001b[39mopen(url, data, timeout)\n",
      "File \u001b[0;32m~/anaconda3/lib/python3.12/urllib/request.py:521\u001b[0m, in \u001b[0;36mOpenerDirector.open\u001b[0;34m(self, fullurl, data, timeout)\u001b[0m\n\u001b[1;32m    519\u001b[0m \u001b[38;5;28;01mfor\u001b[39;00m processor \u001b[38;5;129;01min\u001b[39;00m \u001b[38;5;28mself\u001b[39m\u001b[38;5;241m.\u001b[39mprocess_response\u001b[38;5;241m.\u001b[39mget(protocol, []):\n\u001b[1;32m    520\u001b[0m     meth \u001b[38;5;241m=\u001b[39m \u001b[38;5;28mgetattr\u001b[39m(processor, meth_name)\n\u001b[0;32m--> 521\u001b[0m     response \u001b[38;5;241m=\u001b[39m meth(req, response)\n\u001b[1;32m    523\u001b[0m \u001b[38;5;28;01mreturn\u001b[39;00m response\n",
      "File \u001b[0;32m~/anaconda3/lib/python3.12/urllib/request.py:630\u001b[0m, in \u001b[0;36mHTTPErrorProcessor.http_response\u001b[0;34m(self, request, response)\u001b[0m\n\u001b[1;32m    627\u001b[0m \u001b[38;5;66;03m# According to RFC 2616, \"2xx\" code indicates that the client's\u001b[39;00m\n\u001b[1;32m    628\u001b[0m \u001b[38;5;66;03m# request was successfully received, understood, and accepted.\u001b[39;00m\n\u001b[1;32m    629\u001b[0m \u001b[38;5;28;01mif\u001b[39;00m \u001b[38;5;129;01mnot\u001b[39;00m (\u001b[38;5;241m200\u001b[39m \u001b[38;5;241m<\u001b[39m\u001b[38;5;241m=\u001b[39m code \u001b[38;5;241m<\u001b[39m \u001b[38;5;241m300\u001b[39m):\n\u001b[0;32m--> 630\u001b[0m     response \u001b[38;5;241m=\u001b[39m \u001b[38;5;28mself\u001b[39m\u001b[38;5;241m.\u001b[39mparent\u001b[38;5;241m.\u001b[39merror(\n\u001b[1;32m    631\u001b[0m         \u001b[38;5;124m'\u001b[39m\u001b[38;5;124mhttp\u001b[39m\u001b[38;5;124m'\u001b[39m, request, response, code, msg, hdrs)\n\u001b[1;32m    633\u001b[0m \u001b[38;5;28;01mreturn\u001b[39;00m response\n",
      "File \u001b[0;32m~/anaconda3/lib/python3.12/urllib/request.py:559\u001b[0m, in \u001b[0;36mOpenerDirector.error\u001b[0;34m(self, proto, *args)\u001b[0m\n\u001b[1;32m    557\u001b[0m \u001b[38;5;28;01mif\u001b[39;00m http_err:\n\u001b[1;32m    558\u001b[0m     args \u001b[38;5;241m=\u001b[39m (\u001b[38;5;28mdict\u001b[39m, \u001b[38;5;124m'\u001b[39m\u001b[38;5;124mdefault\u001b[39m\u001b[38;5;124m'\u001b[39m, \u001b[38;5;124m'\u001b[39m\u001b[38;5;124mhttp_error_default\u001b[39m\u001b[38;5;124m'\u001b[39m) \u001b[38;5;241m+\u001b[39m orig_args\n\u001b[0;32m--> 559\u001b[0m     \u001b[38;5;28;01mreturn\u001b[39;00m \u001b[38;5;28mself\u001b[39m\u001b[38;5;241m.\u001b[39m_call_chain(\u001b[38;5;241m*\u001b[39margs)\n",
      "File \u001b[0;32m~/anaconda3/lib/python3.12/urllib/request.py:492\u001b[0m, in \u001b[0;36mOpenerDirector._call_chain\u001b[0;34m(self, chain, kind, meth_name, *args)\u001b[0m\n\u001b[1;32m    490\u001b[0m \u001b[38;5;28;01mfor\u001b[39;00m handler \u001b[38;5;129;01min\u001b[39;00m handlers:\n\u001b[1;32m    491\u001b[0m     func \u001b[38;5;241m=\u001b[39m \u001b[38;5;28mgetattr\u001b[39m(handler, meth_name)\n\u001b[0;32m--> 492\u001b[0m     result \u001b[38;5;241m=\u001b[39m func(\u001b[38;5;241m*\u001b[39margs)\n\u001b[1;32m    493\u001b[0m     \u001b[38;5;28;01mif\u001b[39;00m result \u001b[38;5;129;01mis\u001b[39;00m \u001b[38;5;129;01mnot\u001b[39;00m \u001b[38;5;28;01mNone\u001b[39;00m:\n\u001b[1;32m    494\u001b[0m         \u001b[38;5;28;01mreturn\u001b[39;00m result\n",
      "File \u001b[0;32m~/anaconda3/lib/python3.12/urllib/request.py:639\u001b[0m, in \u001b[0;36mHTTPDefaultErrorHandler.http_error_default\u001b[0;34m(self, req, fp, code, msg, hdrs)\u001b[0m\n\u001b[1;32m    638\u001b[0m \u001b[38;5;28;01mdef\u001b[39;00m \u001b[38;5;21mhttp_error_default\u001b[39m(\u001b[38;5;28mself\u001b[39m, req, fp, code, msg, hdrs):\n\u001b[0;32m--> 639\u001b[0m     \u001b[38;5;28;01mraise\u001b[39;00m HTTPError(req\u001b[38;5;241m.\u001b[39mfull_url, code, msg, hdrs, fp)\n",
      "\u001b[0;31mHTTPError\u001b[0m: HTTP Error 404: Not Found"
     ]
    }
   ],
   "source": [
    "# First is to understand the structure of the data to create an appropriate table for it and become familiar with its content\n",
    "\n",
    "# loads the pandas library\n",
    "import pandas as pd\n",
    "\n",
    "# reads the data\n",
    "df = pd.read_csv ('https://raw.githubusercontent.com/MiguelBlair/SQL_and_Tableau_customer_satisfaction_analysis/refs/heads/main/Data_set/supermarket_sales.csv')\n",
    "\n",
    "# previews the data\n",
    "df"
   ]
  },
  {
   "cell_type": "code",
   "execution_count": null,
   "id": "500873c1",
   "metadata": {},
   "outputs": [
    {
     "data": {
      "text/plain": [
       "Invoice ID                  object\n",
       "Branch                      object\n",
       "City                        object\n",
       "Customer type               object\n",
       "Gender                      object\n",
       "Product line                object\n",
       "Unit price                 float64\n",
       "Quantity                     int64\n",
       "Tax 5%                     float64\n",
       "Total                      float64\n",
       "Date                        object\n",
       "Time                        object\n",
       "Payment                     object\n",
       "cogs                       float64\n",
       "gross margin percentage    float64\n",
       "gross income               float64\n",
       "Rating                     float64\n",
       "dtype: object"
      ]
     },
     "execution_count": 4,
     "metadata": {},
     "output_type": "execute_result"
    }
   ],
   "source": [
    "#reads the data types\n",
    "df.dtypes"
   ]
  },
  {
   "cell_type": "markdown",
   "id": "0c30599d",
   "metadata": {},
   "source": [
    "Now knowing all the columns and data types, I created a table to import the data\n",
    "![img](Images/create_table.png)"
   ]
  },
  {
   "cell_type": "markdown",
   "id": "b0771707",
   "metadata": {},
   "source": [
    "Then I loaded in the data\n",
    "![img](Images/load_data.png)"
   ]
  },
  {
   "cell_type": "markdown",
   "id": "aed420ac",
   "metadata": {},
   "source": [
    "In SQL, to view the data types and the amount of columns, I would use the DESCRIBE query or access the table in SQL tools in VS code\n",
    "![img](Images/data_types.png)"
   ]
  },
  {
   "cell_type": "markdown",
   "id": "6a2acdb8",
   "metadata": {
    "papermill": {
     "duration": 0.018853,
     "end_time": "2024-10-08T18:48:16.731346",
     "exception": false,
     "start_time": "2024-10-08T18:48:16.712493",
     "status": "completed"
    },
    "tags": []
   },
   "source": [
    ">What this preview tells us about this data-\n",
    "\n",
    "1. There are 17 columns.\n",
    "\n",
    "2. The columns in the datasets are: Invoice_ID, Branch, City, Customer_type, Gender, Product_line, Unit_price, Quantity, Tax_5, Total, Date, Time, Payment, cogs, gross_margin_percentage, gross_income, Rating\n",
    "\n",
    "3. Most of the data types of the columns are appropriate for this analysis, other will need to be set."
   ]
  },
  {
   "cell_type": "markdown",
   "id": "abdfcb82",
   "metadata": {
    "papermill": {
     "duration": 0.018777,
     "end_time": "2024-10-08T18:48:16.769330",
     "exception": false,
     "start_time": "2024-10-08T18:48:16.750553",
     "status": "completed"
    },
    "tags": []
   },
   "source": [
    "## 2. Defining the problems/ goals\n",
    "\n",
    "> Previewing the column and data types, the ideal key insights to extract would be-\n",
    "\n",
    "1.What are the sales trends over time by product line? \n",
    " - Aggregate total sales and analyze trends for different product lines over time.\n",
    " \n",
    "2.What is the average purchase amount and frequency by customer type and gender? \n",
    " - Compute average transaction value and count of transactions for each customer type and gender.\n",
    "\n",
    "3.Which product lines or branches have the highest profit margins? \n",
    " - Calculate profit margins (gross margin as a percentage of total) for each product line and branch to find the highest ones.\n",
    " \n",
    "4.How does the payment method impact the average transaction value? \n",
    " - Compare average transaction values across different payment methods to determine if there are significant differences."
   ]
  },
  {
   "cell_type": "markdown",
   "id": "ab781f83",
   "metadata": {
    "papermill": {
     "duration": 0.018638,
     "end_time": "2024-10-08T18:48:16.806899",
     "exception": false,
     "start_time": "2024-10-08T18:48:16.788261",
     "status": "completed"
    },
    "tags": []
   },
   "source": [
    "## 3. Data cleaning\n",
    "\n",
    "This data is fairly clean, it just needs appropriate data types set, and a \"safe\" copy of the original table for data integrity and to prevent data loss, also this table will only have the relevant columsn to extract the insights indicated above."
   ]
  },
  {
   "cell_type": "markdown",
   "id": "d6b32d3f",
   "metadata": {},
   "source": [
    "Here I created the safe copy with only the relevant columns\n",
    "![img](Images/safe_copy.png)"
   ]
  },
  {
   "cell_type": "markdown",
   "id": "063e738a",
   "metadata": {},
   "source": [
    "Here I checked for duplicate rows\n",
    "![img](Images/dups.png)\n",
    "The result set is empty, therefore no duplicates"
   ]
  },
  {
   "cell_type": "markdown",
   "id": "747b17d3",
   "metadata": {},
   "source": [
    "Here I checked for null values\n",
    "![img](Images/nulls.png)\n",
    "The result set is empty, therefore no null values"
   ]
  },
  {
   "cell_type": "markdown",
   "id": "205379b9",
   "metadata": {},
   "source": [
    "Here I changed the Date column to it's appropriate data type\n",
    "![img](Images/date_type.png)"
   ]
  },
  {
   "cell_type": "markdown",
   "id": "57b56b95",
   "metadata": {
    "papermill": {
     "duration": 0.034095,
     "end_time": "2024-10-08T18:48:17.507871",
     "exception": false,
     "start_time": "2024-10-08T18:48:17.473776",
     "status": "completed"
    },
    "tags": []
   },
   "source": [
    "The data is now clean, the appropriate data types are set, those are;\n",
    "\n",
    "Branch: VARCHAR\n",
    "\n",
    "Rating: FLOAT\n",
    "\n",
    "Product_line: VARCHAR\n",
    "\n",
    "Total: FLOAT\n",
    "\n",
    "Date: DATE\n",
    "\n",
    "Payment: VARCHAR\n",
    "\n",
    "gross_margin_percentage: FLOAT\n",
    "\n",
    "gross_income: FLOAT\n",
    "\n",
    "I created a 'safe' copy of the data with only the relevant columns, checked for duplicate and null values, and assigned appropriate data type to the Date column. Here I started extracting insights and visualizing them."
   ]
  },
  {
   "cell_type": "markdown",
   "id": "818f530d",
   "metadata": {
    "papermill": {
     "duration": 0.031361,
     "end_time": "2024-10-08T18:48:17.572305",
     "exception": false,
     "start_time": "2024-10-08T18:48:17.540944",
     "status": "completed"
    },
    "tags": []
   },
   "source": [
    "## 4. Data analysis\n",
    "\n",
    "> First question\n",
    "\n",
    "  1. What are the sales trends over time by product line?\n",
    " - Aggregate total sales and analyze trends for different product lines over time.\n"
   ]
  },
  {
   "cell_type": "markdown",
   "id": "d820fcf2",
   "metadata": {},
   "source": [
    "This query to aggregate the columns\n",
    "![img](Images/q1.png)"
   ]
  },
  {
   "cell_type": "markdown",
   "id": "57484df1",
   "metadata": {},
   "source": [
    "[![Sales over time viz](https://public.tableau.com/shared/8WWSXJ9QJ?:display_count=n&:origin=viz_share_link)](https://public.tableau.com/shared/8WWSXJ9QJ?:display_count=n&:origin=viz_share_link)"
   ]
  },
  {
   "cell_type": "markdown",
   "id": "f422fcbe",
   "metadata": {
    "papermill": {
     "duration": 0.036915,
     "end_time": "2024-10-08T18:48:17.881529",
     "exception": false,
     "start_time": "2024-10-08T18:48:17.844614",
     "status": "completed"
    },
    "tags": []
   },
   "source": [
    ">Conclusion\n",
    "\n",
    "From the visualization on the total sales across different product lines for the first three months of 2019, we can identify several key trends:\n",
    "\n",
    "1. **Top Performing Product Lines:**\n",
    " - **Sports and Travel** consistently recorded high sales, peaking in January 2019 and maintaining strong performance throughout the quarter, showing a sustained demand in this category.\n",
    " - **Home and Lifestyle** also showed strong sales, particularly in March, where it had the highest total sales among all product lines.\n",
    "\n",
    "2. **Product Lines with Steady Sales:**\n",
    " - **Food and Beverages** showed relatively consistent sales across the three months, though it experienced a slight drop in March compared to January and February.\n",
    " - **Fashion Accessories** remained stable but with a slight decline in March.\n",
    "\n",
    "3. **Fluctuations in Sales:**\n",
    " - **Health and Beauty** saw notable fluctuations, with the highest sales in March but a dip in February. It suggests possible seasonal or promotional influences.\n",
    " - **Electronic Accessories** sales peaked in January and gradually declined by March, indicating reduced interest or market saturation.\n",
    "\n",
    "Overall, the data reflects that **Sports and Travel** and **Home and Lifestyle** are the strongest performers, while **Health and Beauty** and **Electronic Accessories** experience more variability in sales."
   ]
  },
  {
   "cell_type": "markdown",
   "id": "867fdf1f",
   "metadata": {
    "papermill": {
     "duration": 0.036201,
     "end_time": "2024-10-08T18:48:17.954701",
     "exception": false,
     "start_time": "2024-10-08T18:48:17.918500",
     "status": "completed"
    },
    "tags": []
   },
   "source": [
    "> Second question\n",
    "\n",
    "  2. Which categories have the highest-rated products?\n",
    "Investigate which product categories receive the highest ratings overall. This could help identify top-performing categories."
   ]
  },
  {
   "cell_type": "markdown",
   "id": "609ef370",
   "metadata": {},
   "source": [
    "This query accomplishes this\n",
    "![Image](Images/q2.png)"
   ]
  },
  {
   "cell_type": "markdown",
   "id": "002d0682",
   "metadata": {},
   "source": [
    "[![Average rating viz](https://public.tableau.com/shared/BKC38Y83C?:display_count=n&:origin=viz_share_link)](https://public.tableau.com/shared/BKC38Y83C?:display_count=n&:origin=viz_share_link)"
   ]
  },
  {
   "cell_type": "markdown",
   "id": "cf3740fa",
   "metadata": {
    "papermill": {
     "duration": 0.039657,
     "end_time": "2024-10-08T18:48:18.288605",
     "exception": false,
     "start_time": "2024-10-08T18:48:18.248948",
     "status": "completed"
    },
    "tags": []
   },
   "source": [
    ">Conclusion\n",
    "\n",
    " The top-rated product category is **Food and Beverages**, with an average rating of 7.11, indicating a strong customer preference for these products. **Fashion Accessories** and **Health and Beauty** also perform well, with average ratings of 7.03 and 7.00, respectively. While **Electronic Accessories** (6.92) and **Sports and Travel** (6.91) are slightly lower, they still maintain competitive ratings. These insights suggest that focusing on **Food and Beverages** and **Fashion Accessories** could yield the highest customer satisfaction."
   ]
  },
  {
   "cell_type": "markdown",
   "id": "123f3e19",
   "metadata": {
    "papermill": {
     "duration": 0.039737,
     "end_time": "2024-10-08T18:48:18.368553",
     "exception": false,
     "start_time": "2024-10-08T18:48:18.328816",
     "status": "completed"
    },
    "tags": []
   },
   "source": [
    "> Third question\n",
    "\n",
    "3. Which product lines or branches have the highest profit margins?\n",
    " - Calculate profit margins (gross margin as a percentage of total) for each product line and branch to find the highest ones."
   ]
  },
  {
   "cell_type": "markdown",
   "id": "6defa9c8",
   "metadata": {},
   "source": [
    "![img](Images/q3.png)"
   ]
  },
  {
   "cell_type": "markdown",
   "id": "8be7147a",
   "metadata": {},
   "source": [
    "[![Profit margin viz](https://public.tableau.com/views/SQLandTableauCustomersatisfactionanalysis/Story1?:language=en-US&:sid=&:redirect=auth&:display_count=n&:origin=viz_share_link)](https://public.tableau.com/views/SQLandTableauCustomersatisfactionanalysis/Story1?:language=en-US&:sid=&:redirect=auth&:display_count=n&:origin=viz_share_link)\n"
   ]
  },
  {
   "cell_type": "markdown",
   "id": "f858f0cf",
   "metadata": {
    "papermill": {
     "duration": 0.044108,
     "end_time": "2024-10-08T18:48:18.661011",
     "exception": false,
     "start_time": "2024-10-08T18:48:18.616903",
     "status": "completed"
    },
    "tags": []
   },
   "source": [
    ">Conclusion:\n",
    "\n",
    "The analysis shows that all product lines and branches have a consistent profit margin percentage of approximately **4.76%**, with no significant variation across branches or product lines. \n",
    "\n",
    "This uniformity suggests that the company applies a standardized pricing or cost structure across different categories and locations. As a result, none of the product lines or branches stand out with particularly higher profit margins. Further analysis could focus on identifying ways to increase profitability in specific branches or product lines through cost reduction or pricing optimization."
   ]
  },
  {
   "cell_type": "markdown",
   "id": "24a0b1b6",
   "metadata": {
    "papermill": {
     "duration": 0.044141,
     "end_time": "2024-10-08T18:48:18.749567",
     "exception": false,
     "start_time": "2024-10-08T18:48:18.705426",
     "status": "completed"
    },
    "tags": []
   },
   "source": [
    "> Fourth question\n",
    "\n",
    "4. How does the payment method impact the average transaction value?\n",
    " - Compare average transaction values across different payment methods to determine if there are significant differences."
   ]
  },
  {
   "cell_type": "markdown",
   "id": "97cde895",
   "metadata": {},
   "source": [
    "![img](Images/q4.png)"
   ]
  },
  {
   "cell_type": "markdown",
   "id": "cf338995",
   "metadata": {},
   "source": [
    "[![Average transaction viz](https://public.tableau.com/shared/6YPMM8B27?:display_count=n&:origin=viz_share_link)](https://public.tableau.com/shared/6YPMM8B27?:display_count=n&:origin=viz_share_link)\n"
   ]
  },
  {
   "cell_type": "markdown",
   "id": "c4908088",
   "metadata": {
    "papermill": {
     "duration": 0.049516,
     "end_time": "2024-10-08T18:48:19.067475",
     "exception": false,
     "start_time": "2024-10-08T18:48:19.017959",
     "status": "completed"
    },
    "tags": []
   },
   "source": [
    ">Conclusion:\n",
    "\n",
    "From the results, we can observe that the payment method has a noticeable impact on the average transaction value:\n",
    "\n",
    "- **Cash** has the highest average transaction value at **326.18**.\n",
    "- **Credit card** follows closely with an average transaction value of **324.01**.\n",
    "- **Ewallet** has the lowest average transaction value at **318.82**.\n",
    "\n",
    "Although the differences are not drastic, cash transactions tend to have slightly higher values compared to credit cards and ewallets. This could suggest that customers paying with cash might be purchasing more expensive items or in larger quantities. Conversely, ewallet users may be making more frequent, smaller purchases. Further analysis could explore additional factors such as customer demographics or product categories to explain these differences."
   ]
  },
  {
   "cell_type": "markdown",
   "id": "c5ca9536",
   "metadata": {
    "papermill": {
     "duration": 0.049106,
     "end_time": "2024-10-08T18:48:19.166791",
     "exception": false,
     "start_time": "2024-10-08T18:48:19.117685",
     "status": "completed"
    },
    "tags": []
   },
   "source": [
    "# Summary:\n",
    "\n",
    "The analysis of the dataset provides insights into key factors impacting sales, customer satisfaction, profitability, and payment methods.\n",
    "\n",
    "1. **Sales Trends Over Time by Product Line:**\n",
    " - **Conclusion:** \n",
    " - **Sports and Travel** and **Home and Lifestyle** are the top-performing product lines, with **Sports and Travel** peaking in January and **Home and Lifestyle** showing the strongest sales in March.\n",
    " - **Health and Beauty** and **Electronic Accessories** exhibited fluctuations, with **Health and Beauty** seeing a notable increase in March and **Electronic Accessories** experiencing a decline over time.\n",
    " - **Food and Beverages** and **Fashion Accessories** remained stable, with minor fluctuations in sales.\n",
    "\n",
    "2. **Highest-Rated Product Categories:**\n",
    " - **Conclusion:** \n",
    " - The top-rated product categories are:\n",
    " - **Food and Beverages** – Average Rating: 7.11\n",
    " - **Fashion Accessories** – Average Rating: 7.03\n",
    " - **Health and Beauty** – Average Rating: 7.00\n",
    " - These categories receive the highest ratings, indicating strong customer satisfaction. Although **Electronic Accessories** (6.92) and **Sports and Travel** (6.91) are slightly lower, they still maintain competitive ratings.\n",
    "\n",
    "3. **Profit Margins by Product Line and Branch:**\n",
    " - **Conclusion:** \n",
    " - The profit margins for all product lines and branches are consistent at approximately **4.76%**, suggesting a standardized pricing or cost structure across categories and locations. No product line or branch significantly stands out in terms of profitability.\n",
    "\n",
    "4. **Impact of Payment Method on Average Transaction Value:**\n",
    " - **Conclusion:** \n",
    " - **Cash** transactions have the highest average transaction value at **₹326.18**, followed by **Credit Card** at **₹324.01**, and **Ewallet** at **₹318.82**. While the differences are subtle, cash transactions tend to involve slightly larger or more expensive purchases, whereas ewallet users may make smaller, more frequent purchases.\n",
    "\n",
    "Overall, the analysis highlights strong sales trends in certain product lines, high customer satisfaction in specific categories, consistent profit margins across branches and product lines, and noticeable differences in transaction values based on payment methods."
   ]
  },
  {
   "cell_type": "markdown",
   "id": "14270c7b",
   "metadata": {
    "papermill": {
     "duration": 0.049113,
     "end_time": "2024-10-08T18:48:19.265329",
     "exception": false,
     "start_time": "2024-10-08T18:48:19.216216",
     "status": "completed"
    },
    "tags": []
   },
   "source": [
    "### Thank you for your time\n",
    "\n",
    "If you have any ideas or suggestions for this project, feel free make an edit or just leave a comment."
   ]
  }
 ],
 "metadata": {
  "kaggle": {
   "accelerator": "none",
   "dataSources": [
    {
     "datasetId": 205965,
     "sourceId": 451952,
     "sourceType": "datasetVersion"
    },
    {
     "datasetId": 5767112,
     "sourceId": 9481183,
     "sourceType": "datasetVersion"
    },
    {
     "datasetId": 5839808,
     "sourceId": 9578692,
     "sourceType": "datasetVersion"
    }
   ],
   "dockerImageVersionId": 30775,
   "isGpuEnabled": false,
   "isInternetEnabled": true,
   "language": "python",
   "sourceType": "notebook"
  },
  "kernelspec": {
   "display_name": "base",
   "language": "python",
   "name": "python3"
  },
  "language_info": {
   "codemirror_mode": {
    "name": "ipython",
    "version": 3
   },
   "file_extension": ".py",
   "mimetype": "text/x-python",
   "name": "python",
   "nbconvert_exporter": "python",
   "pygments_lexer": "ipython3",
   "version": "3.12.7"
  },
  "papermill": {
   "default_parameters": {},
   "duration": 7.325922,
   "end_time": "2024-10-08T18:48:19.835999",
   "environment_variables": {},
   "exception": null,
   "input_path": "__notebook__.ipynb",
   "output_path": "__notebook__.ipynb",
   "parameters": {},
   "start_time": "2024-10-08T18:48:12.510077",
   "version": "2.6.0"
  }
 },
 "nbformat": 4,
 "nbformat_minor": 5
}
